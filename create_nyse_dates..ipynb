{
 "cells": [
  {
   "cell_type": "code",
   "execution_count": 53,
   "metadata": {},
   "outputs": [],
   "source": [
    "from snowflake.connector.pandas_tools import pd_writer\n",
    "import snowflake.connector\n",
    "import snowflake.connector.pandas_tools as pt\n",
    "import pandas as pd\n",
    "from sqlalchemy import create_engine\n",
    "import pandas_market_calendars as mcal\n",
    "\n",
    "#Create connection to Snowflake using your account and user\n",
    "\n",
    "account_identifier = 'fqxxtxo-frb49582'\n",
    "user = 'eugenem'\n",
    "password = 'Sylvina123!'\n",
    "database_name = 'SYLVINA'\n",
    "schema_name = 'DBO'\n",
    "\n",
    "conn_string = f\"snowflake://{user}:{password}@{account_identifier}/{database_name}/{schema_name}\"\n",
    "engine = create_engine(conn_string)\n"
   ]
  },
  {
   "cell_type": "code",
   "execution_count": 55,
   "metadata": {},
   "outputs": [
    {
     "data": {
      "text/html": [
       "<div>\n",
       "<style scoped>\n",
       "    .dataframe tbody tr th:only-of-type {\n",
       "        vertical-align: middle;\n",
       "    }\n",
       "\n",
       "    .dataframe tbody tr th {\n",
       "        vertical-align: top;\n",
       "    }\n",
       "\n",
       "    .dataframe thead th {\n",
       "        text-align: right;\n",
       "    }\n",
       "</style>\n",
       "<table border=\"1\" class=\"dataframe\">\n",
       "  <thead>\n",
       "    <tr style=\"text-align: right;\">\n",
       "      <th></th>\n",
       "      <th>MARKETDATE</th>\n",
       "    </tr>\n",
       "  </thead>\n",
       "  <tbody>\n",
       "    <tr>\n",
       "      <th>0</th>\n",
       "      <td>1972-01-03</td>\n",
       "    </tr>\n",
       "    <tr>\n",
       "      <th>1</th>\n",
       "      <td>1972-01-04</td>\n",
       "    </tr>\n",
       "    <tr>\n",
       "      <th>2</th>\n",
       "      <td>1972-01-05</td>\n",
       "    </tr>\n",
       "    <tr>\n",
       "      <th>3</th>\n",
       "      <td>1972-01-06</td>\n",
       "    </tr>\n",
       "    <tr>\n",
       "      <th>4</th>\n",
       "      <td>1972-01-07</td>\n",
       "    </tr>\n",
       "  </tbody>\n",
       "</table>\n",
       "</div>"
      ],
      "text/plain": [
       "   MARKETDATE\n",
       "0  1972-01-03\n",
       "1  1972-01-04\n",
       "2  1972-01-05\n",
       "3  1972-01-06\n",
       "4  1972-01-07"
      ]
     },
     "metadata": {},
     "output_type": "display_data"
    },
    {
     "data": {
      "text/html": [
       "<div>\n",
       "<style scoped>\n",
       "    .dataframe tbody tr th:only-of-type {\n",
       "        vertical-align: middle;\n",
       "    }\n",
       "\n",
       "    .dataframe tbody tr th {\n",
       "        vertical-align: top;\n",
       "    }\n",
       "\n",
       "    .dataframe thead th {\n",
       "        text-align: right;\n",
       "    }\n",
       "</style>\n",
       "<table border=\"1\" class=\"dataframe\">\n",
       "  <thead>\n",
       "    <tr style=\"text-align: right;\">\n",
       "      <th></th>\n",
       "      <th>MARKETDATE</th>\n",
       "    </tr>\n",
       "  </thead>\n",
       "  <tbody>\n",
       "    <tr>\n",
       "      <th>13359</th>\n",
       "      <td>2024-12-24</td>\n",
       "    </tr>\n",
       "    <tr>\n",
       "      <th>13360</th>\n",
       "      <td>2024-12-26</td>\n",
       "    </tr>\n",
       "    <tr>\n",
       "      <th>13361</th>\n",
       "      <td>2024-12-27</td>\n",
       "    </tr>\n",
       "    <tr>\n",
       "      <th>13362</th>\n",
       "      <td>2024-12-30</td>\n",
       "    </tr>\n",
       "    <tr>\n",
       "      <th>13363</th>\n",
       "      <td>2024-12-31</td>\n",
       "    </tr>\n",
       "  </tbody>\n",
       "</table>\n",
       "</div>"
      ],
      "text/plain": [
       "       MARKETDATE\n",
       "13359  2024-12-24\n",
       "13360  2024-12-26\n",
       "13361  2024-12-27\n",
       "13362  2024-12-30\n",
       "13363  2024-12-31"
      ]
     },
     "metadata": {},
     "output_type": "display_data"
    }
   ],
   "source": [
    "\n",
    "nyse_cal = mcal.get_calendar('NYSE')\n",
    "\n",
    "window_cal= nyse_cal.schedule(start_date=pd.Timestamp(\"1972-01-01\"), end_date = pd.Timestamp(\"2024-12-31\"))\n",
    "valid_days = mcal.date_range(window_cal, frequency='1D').date\n",
    "\n",
    "df_sql = pd.DataFrame(valid_days, columns=['MARKETDATE'])\n",
    "df_sql.reset_index()\n",
    "\n",
    "\n",
    "display ( df_sql.head() )\n",
    "display ( df_sql.tail() )\n",
    "\n"
   ]
  },
  {
   "cell_type": "code",
   "execution_count": 56,
   "metadata": {},
   "outputs": [],
   "source": [
    "        \n",
    "#What to do if the table exists? replace, append, or fail?\n",
    "\n",
    "if_exists = 'replace'\n",
    "\n",
    "#Write the data to Snowflake, using pd_writer to speed up loading\n",
    "\n",
    "with engine.connect() as con:\n",
    "        df_sql.to_sql(name=\"nyse_dates\", con=con, if_exists=if_exists, method=pd_writer, index=False)\n",
    "\n"
   ]
  },
  {
   "cell_type": "code",
   "execution_count": 57,
   "metadata": {},
   "outputs": [
    {
     "data": {
      "text/plain": [
       "(True,\n",
       " 1,\n",
       " 13364,\n",
       " [('ydkevdbatw/file0.txt',\n",
       "   'LOADED',\n",
       "   13364,\n",
       "   13364,\n",
       "   1,\n",
       "   0,\n",
       "   None,\n",
       "   None,\n",
       "   None,\n",
       "   None)])"
      ]
     },
     "execution_count": 57,
     "metadata": {},
     "output_type": "execute_result"
    }
   ],
   "source": [
    "# Gets the version\n",
    "ctx = snowflake.connector.connect(\n",
    "    user='eugenem',\n",
    "    password='Sylvina123!',\n",
    "    account='fqxxtxo-frb49582', #.snowflakecomputing.com'\n",
    "    database='QAI',\n",
    "    warehouse='FASTERWH'\n",
    "    )\n",
    "pt.write_pandas(ctx,df_sql, \"NYSE_DATES\", \"SYLVINA\",\"DBO\")\n",
    "\n"
   ]
  }
 ],
 "metadata": {
  "kernelspec": {
   "display_name": "dev",
   "language": "python",
   "name": "python3"
  },
  "language_info": {
   "codemirror_mode": {
    "name": "ipython",
    "version": 3
   },
   "file_extension": ".py",
   "mimetype": "text/x-python",
   "name": "python",
   "nbconvert_exporter": "python",
   "pygments_lexer": "ipython3",
   "version": "3.8.16"
  },
  "orig_nbformat": 4
 },
 "nbformat": 4,
 "nbformat_minor": 2
}
