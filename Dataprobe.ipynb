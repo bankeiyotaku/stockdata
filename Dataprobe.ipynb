{
 "cells": [
  {
   "cell_type": "code",
   "execution_count": 2,
   "metadata": {},
   "outputs": [],
   "source": [
    "import os\n",
    "os.environ[\"RD_LIB_CONFIG_PATH\"] = \"../../Configuration\"\n",
    "\n",
    "import refinitiv.data as rd\n",
    "from refinitiv.data.content import symbol_conversion\n",
    "import pandas as pd\n",
    "import numpy as np\n",
    "from datetime import datetime\n",
    "import mysql.connector as mysql\n",
    "\n",
    "import utils.fidatabase as fiutil\n",
    "import utils.SPYData as spyutil\n",
    "\n"
   ]
  },
  {
   "cell_type": "code",
   "execution_count": 3,
   "metadata": {},
   "outputs": [
    {
     "data": {
      "text/plain": [
       "<refinitiv.data.session.Definition object at 0x7f85fa91c610 {name='workspace'}>"
      ]
     },
     "execution_count": 3,
     "metadata": {},
     "output_type": "execute_result"
    }
   ],
   "source": [
    "rd.open_session()"
   ]
  },
  {
   "cell_type": "code",
   "execution_count": 4,
   "metadata": {},
   "outputs": [
    {
     "name": "stdout",
     "output_type": "stream",
     "text": [
      "Joined twice: HET.N^A08\n",
      "Deleting added ref HET.N^A08\n",
      "Joined twice: ROK.N\n",
      "Deleting added ref ROK.N\n",
      "Joined twice: MII.N^F99\n",
      "Deleting added ref MII.N^F99\n",
      "Joined twice: FJ.N^K00\n",
      "Deleting added ref FJ.N^K00\n",
      "Joined twice: RX.N^C10\n",
      "Deleting added ref RX.N^C10\n",
      "Joined twice: MWW.N^K16\n",
      "Deleting added ref MWW.N^K16\n",
      "Joined twice: PEG.N\n",
      "Deleting added ref PEG.N\n",
      "Joined twice: PARA.OQ\n",
      "Deleting added ref PARA.OQ\n",
      "Joined twice: JCI.N\n",
      "Deleting added ref JCI.N\n",
      "Not found to remove!:  FTI.N\n",
      "['SO.N', 'KMB.N', 'GIS.N', 'INTC.OQ', 'MSI.N', 'DTE.N', 'UNH.N', 'ETR.N', 'CSCO.OQ', 'IFF.N', 'HAL.N', 'PKI.N', 'HSY.N', 'BBWI.N', 'KR.N', 'MO.N', 'PFE.N', 'MMC.N', 'CMI.N', 'WBA.OQ', 'NUE.N', 'NEM.N', 'WHR.N', 'F.N', 'TGT.N', 'NKE.N', 'PPG.N', 'KO.N', 'PEP.OQ', 'VFC.N', 'NOC.N', 'HD.N', 'DUK.N', 'VZ.N', 'NEE.N', 'CI.N', 'ADSK.OQ', 'CAG.N', 'MDT.N', 'EMN.N', 'GWW.N', 'EMR.N', 'ED.N', 'ORCL.N', 'DOV.N', 'CVX.N', 'MAS.N', 'TJX.N', 'SHW.N', 'AEP.OQ', 'SNA.N', 'ADM.N', 'BAX.N', 'JNJ.N', 'PNC.N', 'IPG.N', 'OXY.N', 'KEY.N', 'TXN.OQ', 'EIX.N', 'SWK.N', 'LIN.N', 'RTX.N', 'MAR.OQ', 'MS.N', 'AMGN.OQ', 'IBM.N', 'GPC.N', 'CNP.N', 'PHM.N', 'PEG.N', 'BAC.N', 'MRK.N', 'HAS.OQ', 'SPGI.N', 'ABT.N', 'TXT.N', 'PARA.OQ', 'ROK.N', 'APD.N', 'CSX.OQ', 'LUV.N', 'LOW.N', 'SLB.N', 'WMB.N', 'CPB.N', 'COST.OQ', 'AXP.N', 'PCAR.OQ', 'AAPL.OQ', 'CLX.N', 'BMY.N', 'HON.OQ', 'NWL.OQ', 'T.N', 'AIG.N', 'UNP.N', 'MRO.N', 'GE.N', 'BA.N', 'EXC.OQ', 'PH.N', 'NSC.N', 'MCD.N', 'K.N', 'ITW.N', 'PG.N', 'D.N', 'HPQ.N', 'XOM.N', 'BKR.OQ', 'BALL.N', 'WFC.N', 'MMM.N', 'TRV.N', 'ECL.N', 'LLY.N', 'CAT.N', 'TAP.N', 'JPM.N', 'BDX.N', 'AVY.N', 'WMT.N', 'GL.N', 'WY.N', 'DE.N', 'XEL.OQ', 'GLW.N', 'BFb.N', 'CL.N', 'HES.N', 'COP.N', 'ADP.OQ', 'MSFT.OQ', 'IP.N', 'DIS.N', 'LNC.N', 'FDX.N', 'ETN.N', 'MU.OQ', 'GD.N', 'HWM.N', 'SYY.N', 'BSX.N', 'AMAT.OQ', 'LMT.N', 'BK.N', 'L.N', 'DRI.N', 'ALL.N', 'USB.N', 'FCX.N', 'PPL.N', 'HUM.N', 'CMA.N', 'HIG.N', 'FITB.OQ', 'AON.N', 'CVS.N', 'AZO.N', 'TMO.N', 'ADBE.OQ', 'CAH.N', 'SCHW.N', 'EFX.N', 'APA.OQ', 'PGR.N', 'HBAN.OQ', 'STT.N', 'KLAC.OQ', 'YUM.N', 'FE.N', 'TFC.N', 'CINF.OQ', 'OMC.N', 'AEE.N', 'NTRS.OQ', 'SEE.N', 'BEN.N', 'SRE.N', 'COF.N', 'WM.N', 'RF.N', 'PAYX.OQ', 'AES.N', 'C.N', 'DHR.N', 'CCL.N', 'MCK.N', 'CMS.N', 'AFL.N', 'NTAP.OQ', 'BBY.N', 'VMC.N', 'QCOM.OQ', 'PNW.N', 'ADI.OQ', 'TROW.OQ', 'A.N', 'SBUX.OQ', 'DVN.N', 'MCO.N', 'NI.N', 'EOG.N', 'RHI.N', 'INTU.OQ', 'MET.N', 'SYK.N', 'CTAS.OQ', 'FISV.OQ', 'ZION.OQ', 'ZBH.N', 'ABC.N', 'NVDA.OQ', 'EQR.N', 'WAT.N', 'SPG.N', 'PRU.N', 'EBAY.OQ', 'PFG.OQ', 'UPS.N', 'GS.N', 'EA.OQ', 'ELV.N', 'CMCSA.OQ', 'DGX.N', 'MKC.N', 'GEN.OQ', 'BIIB.OQ', 'MTB.N', 'VTRS.OQ', 'VLO.N', 'GILD.OQ', 'TPR.N', 'LH.N', 'DHI.N', 'STZ.N', 'TSN.N', 'PSA.N', 'AMP.N', 'LEN.N', 'AMZN.OQ', 'EL.N', 'VRSN.OQ', 'KIM.N', 'GOOGL.OQ', 'BXP.N', 'JNPR.N', 'CME.OQ', 'CBRE.N', 'FIS.N', 'CTSH.OQ', 'AVB.N', 'RL.N', 'CHRW.OQ', 'HST.OQ', 'MDLZ.OQ', 'AIZ.N', 'DFS.N', 'AKAM.OQ', 'MCHP.OQ', 'ICE.N', 'EXPE.OQ', 'EXPD.OQ', 'J.N', 'AMT.N', 'PM.N', 'PEAK.N', 'ISRG.OQ', 'CTRA.N', 'MA.N', 'DVA.N', 'IVZ.N', 'CF.N', 'CRM.N', 'FAST.OQ', 'LHX.N', 'PXD.N', 'APH.N', 'NDAQ.OQ', 'WEC.N', 'SJM.N', 'XRAY.OQ', 'WYNN.OQ', 'RSG.N', 'IRM.N', 'WELL.N', 'HRL.N', 'VTR.N', 'ES.N', 'ORLY.OQ', 'PWR.N', 'WDC.OQ', 'FMC.N', 'BKNG.OQ', 'V.N', 'ROST.OQ', 'ROP.N', 'NRG.N', 'BRKb.N', 'WBD.OQ', 'OKE.N', 'KMX.N', 'CB.N', 'JCI.N', 'TT.N', 'FFIV.OQ', 'NFLX.OQ', 'EW.N', 'BLK.N', 'CMG.N', 'PLD.N', 'MPC.N', 'ACN.N', 'MOS.N', 'TEL.N', 'XYL.N', 'BWA.N', 'DLTR.OQ', 'CCI.N', 'PSX.N', 'KMI.N', 'LRCX.OQ', 'MNST.OQ', 'STX.OQ', 'LYB.N', 'PNR.N', 'DG.N', 'GRMN.N', 'APTV.N', 'ABBV.N', 'REGN.OQ', 'GM.N', 'ZTS.N', 'NWSA.OQ', 'DAL.N', 'VRTX.OQ', 'AME.N', 'ALLE.N', 'MHK.N', 'META.OQ', 'TSCO.OQ', 'ESS.N', 'GOOG.OQ', 'AVGO.OQ', 'MLM.N', 'UHS.N', 'URI.N', 'RCL.N', 'HCA.N', 'SWKS.OQ', 'HSIC.OQ', 'AAL.OQ', 'EQIX.OQ', 'O.N', 'QRVO.OQ', 'JBHT.OQ', 'WRK.N', 'KHC.OQ', 'AAP.N', 'PYPL.OQ', 'ATVI.OQ', 'UAL.OQ', 'NWS.OQ', 'VRSK.OQ', 'HPE.N', 'SYF.N', 'ILMN.OQ', 'CHD.N', 'WTW.OQ', 'EXR.N', 'CFG.N', 'FRT.N', 'AWK.N', 'UDR.N', 'CNC.N', 'HOLX.OQ', 'ULTA.OQ', 'GPN.N', 'ALK.N', 'DLR.N', 'LKQ.OQ', 'AJG.N', 'TDG.N', 'ALB.N', 'LNT.OQ', 'FTV.N', 'MTD.N', 'CHTR.OQ', 'COO.N', 'MAA.N', 'IDXX.OQ', 'INCY.OQ', 'CBOE.Z', 'REG.OQ', 'DISH.OQ', 'SNPS.OQ', 'AMD.OQ', 'RJF.N', 'ARE.N', 'DXC.N', 'IT.N', 'HLT.N', 'RE.N', 'ANSS.OQ', 'ALGN.OQ', 'AOS.N', 'RMD.N', 'PKG.N', 'MGM.N', 'IQV.N', 'DD.N', 'SBAC.OQ', 'CDNS.OQ', 'NCLH.N', 'HII.N', 'TTWO.OQ', 'MSCI.N', 'EVRG.OQ', 'BR.N', 'FLT.N', 'CPRT.OQ', 'ANET.N', 'ROL.N', 'FTNT.OQ', 'KEYS.N', 'JKHY.OQ', 'LW.N', 'FANG.OQ', 'CE.N', 'FRC.N', 'TFX.N', 'ATO.N', 'WAB.N', 'FOX.OQ', 'FOXA.OQ', 'DOW.N', 'CTVA.N', 'AMCR.N', 'MKTX.OQ', 'TMUS.OQ', 'IEX.N', 'LDOS.N', 'CDW.OQ', 'NVR.N', 'LVS.N', 'NOW.N', 'WRB.N', 'ODFL.OQ', 'STE.N', 'ZBRA.OQ', 'LYV.N', 'PAYC.N', 'IR.N', 'OTIS.N', 'CARR.N', 'DXCM.OQ', 'DPZ.N', 'WST.N', 'TDY.N', 'BIO.N', 'TYL.N', 'CTLT.N', 'ETSY.OQ', 'TER.OQ', 'POOL.OQ', 'TSLA.OQ', 'ENPH.OQ', 'TRMB.OQ', 'MPWR.OQ', 'CZR.OQ', 'GNRC.N', 'NXPI.OQ', 'PTC.OQ', 'CRL.N', 'OGN.N', 'MRNA.OQ', 'TECH.OQ', 'BRO.N', 'MTCH.OQ', 'CDAY.N', 'EPAM.N', 'FDS.N', 'SEDG.OQ', 'CEG.OQ', 'NDSN.OQ', 'MOH.N', 'CPT.N', 'VICI.N', 'KDP.OQ', 'ON.OQ', 'INVH.N', 'CSGP.OQ', 'EQT.N', 'PCG.N', 'TRGP.N', 'ACGL.OQ', 'FSLR.OQ', 'STLD.OQ', 'GEHC.OQ', 'BG.N', 'PODD.OQ', 'FICO.N']\n"
     ]
    }
   ],
   "source": [
    "\n",
    "rics_of_interest = spyutil.getSPYList(rd, pd.to_datetime(\"2023-04-05\").date())\n",
    "\n",
    "\n",
    "print(rics_of_interest)"
   ]
  },
  {
   "cell_type": "code",
   "execution_count": 5,
   "metadata": {},
   "outputs": [
    {
     "name": "stdout",
     "output_type": "stream",
     "text": [
      "2000-01-01\n",
      "96\n"
     ]
    }
   ],
   "source": [
    "ric_count = len(rics_of_interest)\n",
    "day_count = int(.97*(50000/ric_count))\n",
    "\n",
    "\n",
    "start_date = pd.Timestamp(year=2000,day=1,month=1).date()\n",
    "end_date =  (start_date + pd.DateOffset(days=day_count)).date()\n",
    "end_date_final = pd.to_datetime(\"2023-04-05\").date()\n",
    "\n",
    "print(start_date)\n",
    "print(day_count)"
   ]
  },
  {
   "cell_type": "code",
   "execution_count": null,
   "metadata": {},
   "outputs": [],
   "source": []
  },
  {
   "cell_type": "code",
   "execution_count": 6,
   "metadata": {},
   "outputs": [],
   "source": [
    "output_df = pd.DataFrame()\n",
    "\n",
    "# while end_date < end_date_final:\n",
    "#     print(\"Getting data from\", start_date, \"to\", end_date)\n",
    "#     df = rd.get_history(\n",
    "#         universe=rics_of_interest,\n",
    "#         fields=['TR.PriceClose(Curn=USD)'],\n",
    "#         interval=\"1D\",\n",
    "#         start=start_date,\n",
    "#         end=end_date,\n",
    "\n",
    "#     )\n",
    "#     output_df = output_df.append(df)\n",
    "#     start_date = (end_date + pd.DateOffset(days=1)).date()\n",
    "#     end_date =  (start_date + pd.DateOffset(days=day_count)).date()\n",
    "#     if(end_date > end_date_final):\n",
    "#         print(\"Adjusting end date to\", end_date_final, \"from\", end_date)\n",
    "#         end_date = end_date_final\n",
    "\n",
    "#     return_len = len(df)\n",
    "#     total_len = len(output_df)\n",
    "#     print(\"Got\", return_len, \"rows, total is now\", total_len)\n",
    "#     if( start_date > end_date ):\n",
    "#         print(\"Start date Greater than end date - Breaking\")\n",
    "#         break\n",
    "\n",
    "#     continue\n",
    "\n"
   ]
  },
  {
   "cell_type": "code",
   "execution_count": 9,
   "metadata": {},
   "outputs": [
    {
     "name": "stdout",
     "output_type": "stream",
     "text": [
      "Connected to: 8.0.32\n"
     ]
    }
   ],
   "source": [
    "# Write to CSV the output_df dataframe as files.csv\n",
    "db = fiutil.ConnectToDb()\n",
    "dbs = db.cursor()\n"
   ]
  },
  {
   "cell_type": "code",
   "execution_count": null,
   "metadata": {},
   "outputs": [],
   "source": []
  },
  {
   "cell_type": "code",
   "execution_count": 10,
   "metadata": {},
   "outputs": [],
   "source": [
    "# Read file \"S&P500PriceHistory.csv\n",
    "# The file includes a header row\n",
    "# Intrepret dates as dates\n",
    "# The date column is the index\n",
    "\n",
    "output_df = pd.read_csv(\"S&P500PriceHistory.csv\", parse_dates=['Date'], index_col='Date')\n"
   ]
  },
  {
   "cell_type": "code",
   "execution_count": 19,
   "metadata": {},
   "outputs": [
    {
     "name": "stdout",
     "output_type": "stream",
     "text": [
      "<class 'pandas.core.frame.DataFrame'>\n",
      "DatetimeIndex: 5989 entries, 2000-01-03 to 2023-02-07\n",
      "Columns: 503 entries, HAS.OQ to FICO.N\n",
      "dtypes: float64(503)\n",
      "memory usage: 23.2 MB\n"
     ]
    }
   ],
   "source": [
    "output_df.info()"
   ]
  },
  {
   "cell_type": "code",
   "execution_count": 17,
   "metadata": {},
   "outputs": [
    {
     "name": "stdout",
     "output_type": "stream",
     "text": [
      "Processing column HAS.OQ (0 of 503)\n"
     ]
    },
    {
     "name": "stderr",
     "output_type": "stream",
     "text": [
      "Traceback (most recent call last):\n",
      "  File \"_pydevd_bundle/pydevd_cython.pyx\", line 1078, in _pydevd_bundle.pydevd_cython.PyDBFrame.trace_dispatch\n",
      "  File \"_pydevd_bundle/pydevd_cython.pyx\", line 297, in _pydevd_bundle.pydevd_cython.PyDBFrame.do_wait_suspend\n",
      "  File \"/Users/eugenemesgar/opt/anaconda3/envs/dev/lib/python3.7/site-packages/debugpy/_vendored/pydevd/pydevd.py\", line 1976, in do_wait_suspend\n",
      "    keep_suspended = self._do_wait_suspend(thread, frame, event, arg, suspend_type, from_this_thread, frames_tracker)\n",
      "  File \"/Users/eugenemesgar/opt/anaconda3/envs/dev/lib/python3.7/site-packages/debugpy/_vendored/pydevd/pydevd.py\", line 2011, in _do_wait_suspend\n",
      "    time.sleep(0.01)\n",
      "KeyboardInterrupt\n"
     ]
    },
    {
     "ename": "KeyboardInterrupt",
     "evalue": "",
     "output_type": "error",
     "traceback": [
      "\u001b[0;31m---------------------------------------------------------------------------\u001b[0m",
      "\u001b[0;31mKeyboardInterrupt\u001b[0m                         Traceback (most recent call last)",
      "\u001b[0;32m/var/folders/0s/r399kd314t508lk6wnl50xbr0000gn/T/ipykernel_19036/37979405.py\u001b[0m in \u001b[0;36m<module>\u001b[0;34m\u001b[0m\n\u001b[1;32m     27\u001b[0m             \u001b[0mdate_val\u001b[0m \u001b[0;34m=\u001b[0m \u001b[0mstr\u001b[0m\u001b[0;34m(\u001b[0m\u001b[0mto_write\u001b[0m\u001b[0;34m.\u001b[0m\u001b[0mindex\u001b[0m\u001b[0;34m[\u001b[0m\u001b[0mj\u001b[0m\u001b[0;34m]\u001b[0m\u001b[0;34m.\u001b[0m\u001b[0mdate\u001b[0m\u001b[0;34m(\u001b[0m\u001b[0;34m)\u001b[0m\u001b[0;34m)\u001b[0m\u001b[0;34m\u001b[0m\u001b[0;34m\u001b[0m\u001b[0m\n\u001b[1;32m     28\u001b[0m             \u001b[0mvalue_val\u001b[0m \u001b[0;34m=\u001b[0m \u001b[0mstr\u001b[0m\u001b[0;34m(\u001b[0m\u001b[0mto_write\u001b[0m\u001b[0;34m[\u001b[0m\u001b[0mj\u001b[0m\u001b[0;34m]\u001b[0m\u001b[0;34m)\u001b[0m\u001b[0;34m\u001b[0m\u001b[0;34m\u001b[0m\u001b[0m\n\u001b[0;32m---> 29\u001b[0;31m             \u001b[0mmy_data\u001b[0m\u001b[0;34m.\u001b[0m\u001b[0mappend\u001b[0m\u001b[0;34m(\u001b[0m \u001b[0;34m(\u001b[0m \u001b[0mcol\u001b[0m\u001b[0;34m,\u001b[0m \u001b[0;34m\"Price\"\u001b[0m\u001b[0;34m,\u001b[0m \u001b[0;34m\"RDP\"\u001b[0m\u001b[0;34m,\u001b[0m \u001b[0mdate_val\u001b[0m\u001b[0;34m,\u001b[0m \u001b[0mvalue_val\u001b[0m\u001b[0;34m)\u001b[0m \u001b[0;34m)\u001b[0m\u001b[0;34m\u001b[0m\u001b[0;34m\u001b[0m\u001b[0m\n\u001b[0m\u001b[1;32m     30\u001b[0m \u001b[0;34m\u001b[0m\u001b[0m\n\u001b[1;32m     31\u001b[0m             \u001b[0;31m# sql = sql + f'(\"{col}\", \"Price\", \"RDP\", \"{date_val}\", \"{value_val}\")'\u001b[0m\u001b[0;34m\u001b[0m\u001b[0;34m\u001b[0m\u001b[0;34m\u001b[0m\u001b[0m\n",
      "\u001b[0;32m/var/folders/0s/r399kd314t508lk6wnl50xbr0000gn/T/ipykernel_19036/37979405.py\u001b[0m in \u001b[0;36m<module>\u001b[0;34m\u001b[0m\n\u001b[1;32m     27\u001b[0m             \u001b[0mdate_val\u001b[0m \u001b[0;34m=\u001b[0m \u001b[0mstr\u001b[0m\u001b[0;34m(\u001b[0m\u001b[0mto_write\u001b[0m\u001b[0;34m.\u001b[0m\u001b[0mindex\u001b[0m\u001b[0;34m[\u001b[0m\u001b[0mj\u001b[0m\u001b[0;34m]\u001b[0m\u001b[0;34m.\u001b[0m\u001b[0mdate\u001b[0m\u001b[0;34m(\u001b[0m\u001b[0;34m)\u001b[0m\u001b[0;34m)\u001b[0m\u001b[0;34m\u001b[0m\u001b[0;34m\u001b[0m\u001b[0m\n\u001b[1;32m     28\u001b[0m             \u001b[0mvalue_val\u001b[0m \u001b[0;34m=\u001b[0m \u001b[0mstr\u001b[0m\u001b[0;34m(\u001b[0m\u001b[0mto_write\u001b[0m\u001b[0;34m[\u001b[0m\u001b[0mj\u001b[0m\u001b[0;34m]\u001b[0m\u001b[0;34m)\u001b[0m\u001b[0;34m\u001b[0m\u001b[0;34m\u001b[0m\u001b[0m\n\u001b[0;32m---> 29\u001b[0;31m             \u001b[0mmy_data\u001b[0m\u001b[0;34m.\u001b[0m\u001b[0mappend\u001b[0m\u001b[0;34m(\u001b[0m \u001b[0;34m(\u001b[0m \u001b[0mcol\u001b[0m\u001b[0;34m,\u001b[0m \u001b[0;34m\"Price\"\u001b[0m\u001b[0;34m,\u001b[0m \u001b[0;34m\"RDP\"\u001b[0m\u001b[0;34m,\u001b[0m \u001b[0mdate_val\u001b[0m\u001b[0;34m,\u001b[0m \u001b[0mvalue_val\u001b[0m\u001b[0;34m)\u001b[0m \u001b[0;34m)\u001b[0m\u001b[0;34m\u001b[0m\u001b[0;34m\u001b[0m\u001b[0m\n\u001b[0m\u001b[1;32m     30\u001b[0m \u001b[0;34m\u001b[0m\u001b[0m\n\u001b[1;32m     31\u001b[0m             \u001b[0;31m# sql = sql + f'(\"{col}\", \"Price\", \"RDP\", \"{date_val}\", \"{value_val}\")'\u001b[0m\u001b[0;34m\u001b[0m\u001b[0;34m\u001b[0m\u001b[0;34m\u001b[0m\u001b[0m\n",
      "\u001b[0;32m_pydevd_bundle/pydevd_cython.pyx\u001b[0m in \u001b[0;36m_pydevd_bundle.pydevd_cython.SafeCallWrapper.__call__\u001b[0;34m()\u001b[0m\n",
      "\u001b[0;32m_pydevd_bundle/pydevd_cython.pyx\u001b[0m in \u001b[0;36m_pydevd_bundle.pydevd_cython.PyDBFrame.trace_dispatch\u001b[0;34m()\u001b[0m\n",
      "\u001b[0;32m_pydevd_bundle/pydevd_cython.pyx\u001b[0m in \u001b[0;36m_pydevd_bundle.pydevd_cython.PyDBFrame.trace_dispatch\u001b[0;34m()\u001b[0m\n",
      "\u001b[0;32m_pydevd_bundle/pydevd_cython.pyx\u001b[0m in \u001b[0;36m_pydevd_bundle.pydevd_cython.PyDBFrame.trace_dispatch\u001b[0;34m()\u001b[0m\n",
      "\u001b[0;32m_pydevd_bundle/pydevd_cython.pyx\u001b[0m in \u001b[0;36m_pydevd_bundle.pydevd_cython.PyDBFrame.do_wait_suspend\u001b[0;34m()\u001b[0m\n",
      "\u001b[0;32m~/opt/anaconda3/envs/dev/lib/python3.7/site-packages/debugpy/_vendored/pydevd/pydevd.py\u001b[0m in \u001b[0;36mdo_wait_suspend\u001b[0;34m(self, thread, frame, event, arg, exception_type)\u001b[0m\n\u001b[1;32m   1974\u001b[0m \u001b[0;34m\u001b[0m\u001b[0m\n\u001b[1;32m   1975\u001b[0m             \u001b[0;32mwith\u001b[0m \u001b[0mself\u001b[0m\u001b[0;34m.\u001b[0m\u001b[0m_threads_suspended_single_notification\u001b[0m\u001b[0;34m.\u001b[0m\u001b[0mnotify_thread_suspended\u001b[0m\u001b[0;34m(\u001b[0m\u001b[0mthread_id\u001b[0m\u001b[0;34m,\u001b[0m \u001b[0mstop_reason\u001b[0m\u001b[0;34m)\u001b[0m\u001b[0;34m:\u001b[0m\u001b[0;34m\u001b[0m\u001b[0;34m\u001b[0m\u001b[0m\n\u001b[0;32m-> 1976\u001b[0;31m                 \u001b[0mkeep_suspended\u001b[0m \u001b[0;34m=\u001b[0m \u001b[0mself\u001b[0m\u001b[0;34m.\u001b[0m\u001b[0m_do_wait_suspend\u001b[0m\u001b[0;34m(\u001b[0m\u001b[0mthread\u001b[0m\u001b[0;34m,\u001b[0m \u001b[0mframe\u001b[0m\u001b[0;34m,\u001b[0m \u001b[0mevent\u001b[0m\u001b[0;34m,\u001b[0m \u001b[0marg\u001b[0m\u001b[0;34m,\u001b[0m \u001b[0msuspend_type\u001b[0m\u001b[0;34m,\u001b[0m \u001b[0mfrom_this_thread\u001b[0m\u001b[0;34m,\u001b[0m \u001b[0mframes_tracker\u001b[0m\u001b[0;34m)\u001b[0m\u001b[0;34m\u001b[0m\u001b[0;34m\u001b[0m\u001b[0m\n\u001b[0m\u001b[1;32m   1977\u001b[0m \u001b[0;34m\u001b[0m\u001b[0m\n\u001b[1;32m   1978\u001b[0m         \u001b[0mframes_list\u001b[0m \u001b[0;34m=\u001b[0m \u001b[0;32mNone\u001b[0m\u001b[0;34m\u001b[0m\u001b[0;34m\u001b[0m\u001b[0m\n",
      "\u001b[0;32m~/opt/anaconda3/envs/dev/lib/python3.7/site-packages/debugpy/_vendored/pydevd/pydevd.py\u001b[0m in \u001b[0;36m_do_wait_suspend\u001b[0;34m(self, thread, frame, event, arg, suspend_type, from_this_thread, frames_tracker)\u001b[0m\n\u001b[1;32m   2009\u001b[0m \u001b[0;34m\u001b[0m\u001b[0m\n\u001b[1;32m   2010\u001b[0m             \u001b[0mself\u001b[0m\u001b[0;34m.\u001b[0m\u001b[0mprocess_internal_commands\u001b[0m\u001b[0;34m(\u001b[0m\u001b[0;34m)\u001b[0m\u001b[0;34m\u001b[0m\u001b[0;34m\u001b[0m\u001b[0m\n\u001b[0;32m-> 2011\u001b[0;31m             \u001b[0mtime\u001b[0m\u001b[0;34m.\u001b[0m\u001b[0msleep\u001b[0m\u001b[0;34m(\u001b[0m\u001b[0;36m0.01\u001b[0m\u001b[0;34m)\u001b[0m\u001b[0;34m\u001b[0m\u001b[0;34m\u001b[0m\u001b[0m\n\u001b[0m\u001b[1;32m   2012\u001b[0m \u001b[0;34m\u001b[0m\u001b[0m\n\u001b[1;32m   2013\u001b[0m         \u001b[0mself\u001b[0m\u001b[0;34m.\u001b[0m\u001b[0mcancel_async_evaluation\u001b[0m\u001b[0;34m(\u001b[0m\u001b[0mget_current_thread_id\u001b[0m\u001b[0;34m(\u001b[0m\u001b[0mthread\u001b[0m\u001b[0;34m)\u001b[0m\u001b[0;34m,\u001b[0m \u001b[0mstr\u001b[0m\u001b[0;34m(\u001b[0m\u001b[0mid\u001b[0m\u001b[0;34m(\u001b[0m\u001b[0mframe\u001b[0m\u001b[0;34m)\u001b[0m\u001b[0;34m)\u001b[0m\u001b[0;34m)\u001b[0m\u001b[0;34m\u001b[0m\u001b[0;34m\u001b[0m\u001b[0m\n",
      "\u001b[0;31mKeyboardInterrupt\u001b[0m: "
     ]
    }
   ],
   "source": [
    "index = 0\n",
    "col_count = 0\n",
    "\n",
    "for col in output_df.columns:\n",
    "    print(f\"Processing column {col} ({col_count} of {len(output_df.columns)})\")\n",
    "\n",
    "\n",
    "    col_count = col_count + 1\n",
    "    sql = \"\"\n",
    "    to_write = output_df[col].copy()\n",
    "    to_write.dropna(inplace=True)\n",
    "\n",
    "    first_col = 0\n",
    "    last_col = len(to_write)\n",
    "    \n",
    "    \n",
    "    chunk_size = 10000\n",
    "    \n",
    "    \n",
    "    for i in range(first_col, last_col, chunk_size):\n",
    "        sql = \"INSERT INTO TimeSeries ( ric, series, variant, ddate, val ) VALUES (%s, %s, %s, %s)\" \n",
    "        my_data = []\n",
    "\n",
    "        next_chunk = min( last_col, chunk_size+i)\n",
    "        for j in range(i, next_chunk):\n",
    "\n",
    "            date_val = str(to_write.index[j].date())\n",
    "            value_val = str(to_write[j])\n",
    "            my_data.append( ( col, \"Price\", \"RDP\", date_val, value_val) ) \n",
    "\n",
    "            # sql = sql + f'(\"{col}\", \"Price\", \"RDP\", \"{date_val}\", \"{value_val}\")'\n",
    "            # if( j < (next_chunk-1) ):\n",
    "            #     sql = sql + \",\"\n",
    "            # else:\n",
    "            #     sql = sql + \";\"\n",
    "\n",
    "            # sql = sql + \"\\n\"\n",
    "    \n",
    "       \n",
    "        ## Execute the sql statement stored in variable sql\n",
    "        dbs.executemany( sql, my_data )\n",
    "   \n",
    "       \n",
    "       \n",
    "\n",
    "     \n",
    " \n"
   ]
  },
  {
   "cell_type": "code",
   "execution_count": null,
   "metadata": {},
   "outputs": [],
   "source": []
  },
  {
   "cell_type": "code",
   "execution_count": null,
   "metadata": {},
   "outputs": [],
   "source": []
  },
  {
   "cell_type": "code",
   "execution_count": null,
   "metadata": {},
   "outputs": [],
   "source": []
  },
  {
   "cell_type": "code",
   "execution_count": null,
   "metadata": {},
   "outputs": [],
   "source": [
    "df_dict = {}\n",
    "\n",
    "for ric in rics_of_interest:\n",
    "    df_dict[ric] = df[ric].dropna()\n",
    "    test_df =  df_dict[ric].index.duplicated()\n",
    "    df_dict[ric] = df_dict[ric].loc[~test_df]\n",
    "    df_dict[(ric + \"PC\")] = df_dict[ric].pct_change()\n",
    "    df_dict[(ric + \"CP\")] = (df_dict[ric +\"PC\"] +1).cumprod()\n",
    "    \n",
    "graph_start = pd.Timestamp(start_date)\n",
    "graph_end = (start_date + pd.DateOffset(years=5))\n",
    "\n",
    "ymax=0\n",
    "for ric in rics_of_interest:\n",
    "    ymax = max( ymax, df_dict[(ric + \"CP\")].loc[graph_start:graph_end].max() )\n",
    "\n",
    "for ric in rics_of_interest:\n",
    "    df_dict[(ric + \"CP\")].plot(legend=True, figsize=(15,10), title=\"Cumulative Returns\", label=ric, xlim=(graph_start,graph_end),ylim=(0,ymax*1.05))\n",
    "\n"
   ]
  },
  {
   "cell_type": "code",
   "execution_count": null,
   "metadata": {},
   "outputs": [],
   "source": [
    "\n",
    "# for ric in rics_of_interest:\n",
    "#     ymax = max( ymax, df_dict[(ric + \"CP\")].loc[graph_start:graph_end].max() )\n",
    "\n",
    "for ric in rics_of_interest:\n",
    "    df_dict[(ric + \"PC\")].plot.hist(bins=100, legend=True, figsize=(15,10), title=\"Daily Returns\", label=ric)\n",
    "        #legend=True, figsize=(15,10), title=\"Cumulative Returns\", label=ric, xlim=(graph_start,graph_end),ylim=(0,ymax*1.05))\n"
   ]
  },
  {
   "cell_type": "code",
   "execution_count": null,
   "metadata": {},
   "outputs": [],
   "source": [
    "df_list = list()\n",
    "for ric in rics_of_interest:\n",
    "    df_list.append(df_dict[(ric + \"PC\")])\n",
    "\n",
    "\n",
    "new_df = pd.concat( df_list , axis=1, join=\"outer\" ) \n",
    "\n",
    "\n",
    "new_df.plot.box(legend=True, figsize=(15,10), title=\"Daily Returns\", label=ric)\n"
   ]
  },
  {
   "cell_type": "code",
   "execution_count": null,
   "metadata": {},
   "outputs": [],
   "source": [
    "new_df.describe().transpose()[\"std\"].sort_values()"
   ]
  },
  {
   "cell_type": "code",
   "execution_count": null,
   "metadata": {},
   "outputs": [],
   "source": [
    "new_df.describe().transpose()[\"mean\"].sort_values()"
   ]
  },
  {
   "cell_type": "code",
   "execution_count": null,
   "metadata": {},
   "outputs": [],
   "source": [
    "sharpe_dict = {}\n",
    "\n",
    "for ric in rics_of_interest:\n",
    "    #date_dict[ric + \"S\"] = df_dict[(ric + \"CP\")].index[0]\n",
    "    #date_dict[ric + \"E\"] = df_dict[(ric + \"CP\")].index[-1]\n",
    "    sharpe_dict[ric + \"Years\"] = (df_dict[(ric + \"CP\")].index[-1] -  df_dict[(ric + \"CP\")].index[0]  ).days/365\n",
    "    sharpe_dict[ric + \"Return\"] = df_dict[(ric + \"CP\")].iloc[-1]\n",
    "    sharpe_dict[ric + \"Std\"] = df_dict[(ric + \"PC\")].std() * np.sqrt(252)\n",
    "    sharpe_dict[ric + \"Cagr2\"] = (sharpe_dict[ric + \"Return\"]**(1/sharpe_dict[ric + \"Years\"])) -  1\n",
    "    sharpe_dict[ric + \"Cagr\"] = df_dict[ric + \"PC\"].mean() *  252\n",
    "    sharpe_dict[ric + \"Sharpe\"] =  sharpe_dict[ric+ \"Cagr\"] / sharpe_dict[ric + \"Std\"]\n",
    "    print(f\"RIC: {ric} Std: {(sharpe_dict[ric + 'Std']):.2f} Cagr: {(sharpe_dict[ric + 'Cagr']):.2f} CagrA: {(sharpe_dict[ric + 'Cagr2']):.2f} Sharpe: {(sharpe_dict[ric + 'Sharpe']):.2f}\")\n",
    "    #print(ric, sharpe_dict[ric + \"Years\"], sharpe_dict[ric + \"Return\"], sharpe_dict[ric + \"Std\"], sharpe_dict[ric + \"Cagr\"], sharpe_dict[ric + \"Sharpe\"] )\n",
    "                                   \n",
    "\n",
    "              "
   ]
  },
  {
   "cell_type": "code",
   "execution_count": null,
   "metadata": {},
   "outputs": [],
   "source": [
    "print(sharpe_dict)"
   ]
  },
  {
   "cell_type": "code",
   "execution_count": null,
   "metadata": {},
   "outputs": [],
   "source": [
    "start_date = pd.Timestamp(year=1980,day=1,month=1).date()\n",
    "end_date = pd.Timestamp(year=2023,day=4,month=4).date()\n",
    "\n",
    "tdf = rd.get_history( universe=[\"MSFT.O\"], \n",
    "                    fields=[\"TR.F.TotRevenue(Period=LTM,RollPeriods=True)\"],\n",
    "                    interval=\"1D\",\n",
    "                    start=start_date,\n",
    "                    end=end_date)\n",
    "\n",
    "tdf.head()\n",
    "\n",
    "\n",
    "\n",
    "\n"
   ]
  },
  {
   "cell_type": "code",
   "execution_count": null,
   "metadata": {},
   "outputs": [],
   "source": [
    "tdf.plot(figsize=[13,8], title=\"MSFT Revenue\")\n"
   ]
  },
  {
   "cell_type": "code",
   "execution_count": null,
   "metadata": {},
   "outputs": [],
   "source": [
    "\n",
    "start_date = pd.Timestamp(year=2000,day=1,month=1).date()\n",
    "end_date = pd.Timestamp(year=2023,day=4,month=4).date()\n",
    "\n",
    "tdf = rd.get_history( universe=[\"MSFT.O\"], \n",
    "                    fields=[\"TR.CombinedAlphaRegionRank\"],\n",
    "                    interval=\"1D\",\n",
    "                    start=start_date,\n",
    "                    end=end_date)\n",
    "\n"
   ]
  },
  {
   "cell_type": "code",
   "execution_count": null,
   "metadata": {},
   "outputs": [],
   "source": [
    "\n",
    "display(tdf.tail())\n",
    "display(tdf.head())"
   ]
  },
  {
   "cell_type": "code",
   "execution_count": null,
   "metadata": {},
   "outputs": [],
   "source": [
    "tdf.plot(figsize=[13,8], title=\"MSFT CAM\")\n"
   ]
  },
  {
   "cell_type": "code",
   "execution_count": null,
   "metadata": {},
   "outputs": [],
   "source": [
    "cam_and_price = pd.concat( [tdf, df_dict[\"MSFT.O\"]], axis=1, join=\"outer\" )\n",
    "\n",
    "cam_and_price.columns = [\"CAM\", \"Price\"]\n",
    "cam_and_price[\"Shift\"] = cam_and_price[\"Price\"].pct_change(periods=252)\n",
    "\n",
    "ax = cam_and_price[\"CAM\"].plot(figsize=[13,8], title=\"MSFT CAM and Price\")\n",
    "cam_and_price[\"Shift\"].plot(ax=ax, secondary_y=True, style=\"g\")\n"
   ]
  },
  {
   "cell_type": "code",
   "execution_count": null,
   "metadata": {},
   "outputs": [],
   "source": []
  }
 ],
 "metadata": {
  "kernelspec": {
   "display_name": "Python 3.7 deV",
   "language": "python",
   "name": "dev"
  },
  "language_info": {
   "codemirror_mode": {
    "name": "ipython",
    "version": 3
   },
   "file_extension": ".py",
   "mimetype": "text/x-python",
   "name": "python",
   "nbconvert_exporter": "python",
   "pygments_lexer": "ipython3",
   "version": "3.7.13"
  },
  "orig_nbformat": 4
 },
 "nbformat": 4,
 "nbformat_minor": 2
}
